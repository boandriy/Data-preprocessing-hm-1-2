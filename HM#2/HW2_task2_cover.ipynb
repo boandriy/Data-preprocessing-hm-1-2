{
 "cells": [
  {
   "cell_type": "markdown",
   "metadata": {},
   "source": [
    "# Problem Set 2 - Data preparation"
   ]
  },
  {
   "cell_type": "markdown",
   "metadata": {},
   "source": [
    "_Data Preparation Course at UCU, 2019_"
   ]
  },
  {
   "cell_type": "markdown",
   "metadata": {},
   "source": [
    "### NB\n",
    "\n",
    "__1) Which programming languages to use?__\n",
    "\n",
    "You can use Python, R or both of them (but with one limitation: one dataset - one language).\n",
    "\n",
    "__2) What libraries/packages to use?__\n",
    "\n",
    "You are free to choose any appropriate data processing libraries (good choice would be __pandas__, __numpy__ or\n",
    "__pyspark__ for Python and __dplyr__ or __tidyr__ for R).\n",
    "\n",
    "__3) How to summarize my homework?__\n",
    "\n",
    "The best way is to create an individual Jupyter/R notebook with code and explanations for each dataset.\n",
    "In case you are not familiar with these tools, you can create a Python/R scripts and write explanations\n",
    "as comments. However, we strongly recommend you to use Jupyter/R notebooks, as those are #1 tools in\n",
    "applied data analysis nowadays."
   ]
  },
  {
   "cell_type": "markdown",
   "metadata": {},
   "source": [
    "### Task 2\n",
    "\n",
    "### Data cleaning (Census-Income Data Set)\n"
   ]
  },
  {
   "cell_type": "markdown",
   "metadata": {},
   "source": [
    "Load the appropriate libraries.\n",
    "\n",
    "__!!! (OZ comment, judging on the answer)__ Maybe add a comment about feeling free to combine some tasks if considering this as appropriate or useful? So the people wouldn't be confused with different cells for each answer."
   ]
  },
  {
   "cell_type": "code",
   "execution_count": 1,
   "metadata": {},
   "outputs": [
    {
     "name": "stderr",
     "output_type": "stream",
     "text": [
      "UsageError: Line magic function `%` not found.\n"
     ]
    }
   ],
   "source": [
    "import pandas as pd\n",
    "import numpy as np\n",
    "from matplotlib import pyplot as plt\n",
    "% matplotlib inline"
   ]
  },
  {
   "cell_type": "markdown",
   "metadata": {},
   "source": [
    "__2.1.__ Download the dataset from UCI Machine Learning Repository [__(dataset)__](https://archive.ics.uci.edu/ml/datasets/Census+Income)."
   ]
  },
  {
   "cell_type": "markdown",
   "metadata": {},
   "source": [
    "__2.2.__ Read the data and add attribute headers (they are absent in the original .data file)."
   ]
  },
  {
   "cell_type": "markdown",
   "metadata": {},
   "source": []
  },
  {
   "cell_type": "code",
   "execution_count": null,
   "metadata": {
    "scrolled": false
   },
   "outputs": [],
   "source": [
    "df = pd.read_csv('adult.data',names=['age', 'workclass', 'fnlwgt', 'education', 'education-num',\n",
    "                                      'marital-status', 'occupation', 'relationship', 'race', 'sex', \n",
    "                                      'capital-gain', 'capital-loss', 'hours-per-week', 'native-country', '>50K'])\n",
    "df.head(5)"
   ]
  },
  {
   "cell_type": "markdown",
   "metadata": {},
   "source": [
    "__2.3.__ Investigate the attributes for wrong data, fix the typos in classes’ names, standartidize it’s representation (so later it would be easier to convert them to boolean cagetorical attributes)."
   ]
  },
  {
   "cell_type": "code",
   "execution_count": null,
   "metadata": {},
   "outputs": [],
   "source": [
    "map_dict = { \n",
    "    \" >50K\": 1,\n",
    "    \" <=50K\":0\n",
    "}\n",
    "# wanted to use google translate api, but I was blocked with very frequent request.\n",
    "# df[\"color\"] = df[\"color\"].map(lambda x: translator.translate(x).text)\n",
    "df['>50K'] = df['>50K'].map(map_dict)\n",
    "df.head(24)"
   ]
  },
  {
   "cell_type": "markdown",
   "metadata": {},
   "source": [
    "__2.4.__ Fill the missing values in categorical attributes (missing values are denoted by ‘?’) and explain which method you have used and why for each column."
   ]
  },
  {
   "cell_type": "code",
   "execution_count": null,
   "metadata": {
    "scrolled": true
   },
   "outputs": [],
   "source": [
    "print(df.size)\n",
    "df.head(3)"
   ]
  },
  {
   "cell_type": "code",
   "execution_count": null,
   "metadata": {},
   "outputs": [],
   "source": [
    "df['native-country'].mode()"
   ]
  },
  {
   "cell_type": "code",
   "execution_count": null,
   "metadata": {},
   "outputs": [],
   "source": [
    "\n",
    "for index, row in df.iterrows():\n",
    "    if(df['native-country'][index] == \" ?\"):\n",
    "        df['native-country'][index] = \"United-States\"\n",
    "    \n",
    "print(df['native-country'][14] == \" ?\")\n",
    "df.head(34)"
   ]
  },
  {
   "cell_type": "markdown",
   "metadata": {},
   "source": [
    "__2.5.__ There are __a lot of__ missing values in columns __capital-gain__ and __capital-loss__. Investigate what is the best way to deal with them, and apply it."
   ]
  },
  {
   "cell_type": "code",
   "execution_count": null,
   "metadata": {},
   "outputs": [],
   "source": []
  },
  {
   "cell_type": "markdown",
   "metadata": {},
   "source": [
    "__2.6.__ Check continuous attributes for outliers, and if you find any - propose the way to deal with them."
   ]
  },
  {
   "cell_type": "code",
   "execution_count": null,
   "metadata": {},
   "outputs": [],
   "source": []
  },
  {
   "cell_type": "markdown",
   "metadata": {},
   "source": [
    "__2.7.__ Chose some ML model you would like to use to solve the classification problem with this dataset and explain the next steps you would take to make your data ready for modeling (3-4 sentences)."
   ]
  },
  {
   "cell_type": "markdown",
   "metadata": {},
   "source": []
  }
 ],
 "metadata": {
  "kernelspec": {
   "display_name": "Python 3",
   "language": "python",
   "name": "python3"
  },
  "language_info": {
   "codemirror_mode": {
    "name": "ipython",
    "version": 3
   },
   "file_extension": ".py",
   "mimetype": "text/x-python",
   "name": "python",
   "nbconvert_exporter": "python",
   "pygments_lexer": "ipython3",
   "version": "3.7.3"
  }
 },
 "nbformat": 4,
 "nbformat_minor": 2
}
