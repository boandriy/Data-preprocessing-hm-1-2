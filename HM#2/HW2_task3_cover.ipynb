{
 "cells": [
  {
   "cell_type": "markdown",
   "metadata": {},
   "source": [
    "# Problem Set 2 - Data preparation"
   ]
  },
  {
   "cell_type": "markdown",
   "metadata": {},
   "source": [
    "_Data Preparation Course at UCU, 2019_"
   ]
  },
  {
   "cell_type": "markdown",
   "metadata": {},
   "source": [
    "### NB\n",
    "\n",
    "__1) Which programming languages to use?__\n",
    "\n",
    "You can use Python, R or both of them (but with one limitation: one dataset - one language).\n",
    "\n",
    "__2) What libraries/packages to use?__\n",
    "\n",
    "You are free to choose any appropriate data processing libraries (good choice would be __pandas__, __numpy__ or\n",
    "__pyspark__ for Python and __dplyr__ or __tidyr__ for R).\n",
    "\n",
    "__3) How to summarize my homework?__\n",
    "\n",
    "The best way is to create an individual Jupyter/R notebook with code and explanations for each dataset.\n",
    "In case you are not familiar with these tools, you can create a Python/R scripts and write explanations\n",
    "as comments. However, we strongly recommend you to use Jupyter/R notebooks, as those are #1 tools in\n",
    "applied data analysis nowadays."
   ]
  },
  {
   "cell_type": "markdown",
   "metadata": {},
   "source": [
    "### Task 3\n",
    "\n",
    "### Data normalization (Pima Indians Diabetes Database)\n"
   ]
  },
  {
   "cell_type": "markdown",
   "metadata": {},
   "source": [
    "Load the appropriate libraries."
   ]
  },
  {
   "cell_type": "code",
   "execution_count": 193,
   "metadata": {},
   "outputs": [],
   "source": [
    "import pandas as pd\n",
    "import numpy as np\n",
    "from matplotlib import pyplot as plt\n",
    "from scipy import stats\n",
    "% matplotlib inline"
   ]
  },
  {
   "cell_type": "markdown",
   "metadata": {},
   "source": [
    "__3.1.__ Download the dataset from Kaggle [__(dataset)__](https://www.kaggle.com/uciml/pima-indians-diabetes-database#diabetes.csv)."
   ]
  },
  {
   "cell_type": "code",
   "execution_count": null,
   "metadata": {},
   "outputs": [],
   "source": []
  },
  {
   "cell_type": "markdown",
   "metadata": {},
   "source": [
    "__3.2.__ Investigate the attributes and propose which of them need to be normalized? Explain your choice."
   ]
  },
  {
   "cell_type": "markdown",
   "metadata": {},
   "source": []
  },
  {
   "cell_type": "code",
   "execution_count": null,
   "metadata": {},
   "outputs": [],
   "source": []
  },
  {
   "cell_type": "markdown",
   "metadata": {},
   "source": [
    "__3.3.__ Perform normalization using the most appropriate method. Why did you choose it? How can you check\n",
    "that it works better than others?"
   ]
  },
  {
   "cell_type": "code",
   "execution_count": null,
   "metadata": {},
   "outputs": [],
   "source": []
  },
  {
   "cell_type": "markdown",
   "metadata": {},
   "source": [
    "__3.4.__ Why do we need to normalize numerical attributes?"
   ]
  },
  {
   "cell_type": "markdown",
   "metadata": {},
   "source": []
  },
  {
   "cell_type": "markdown",
   "metadata": {},
   "source": [
    "__3.5.__ What is standartization and how it differs from normalization?"
   ]
  },
  {
   "cell_type": "markdown",
   "metadata": {},
   "source": []
  }
 ],
 "metadata": {
  "kernelspec": {
   "display_name": "Python 3",
   "language": "python",
   "name": "python3"
  },
  "language_info": {
   "codemirror_mode": {
    "name": "ipython",
    "version": 3
   },
   "file_extension": ".py",
   "mimetype": "text/x-python",
   "name": "python",
   "nbconvert_exporter": "python",
   "pygments_lexer": "ipython3",
   "version": "3.7.3"
  }
 },
 "nbformat": 4,
 "nbformat_minor": 2
}
